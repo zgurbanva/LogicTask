{
  "nbformat": 4,
  "nbformat_minor": 0,
  "metadata": {
    "colab": {
      "provenance": []
    },
    "kernelspec": {
      "name": "python3",
      "display_name": "Python 3"
    },
    "language_info": {
      "name": "python"
    }
  },
  "cells": [
    {
      "cell_type": "code",
      "execution_count": 7,
      "metadata": {
        "colab": {
          "base_uri": "https://localhost:8080/"
        },
        "id": "rAFidARM4qRg",
        "outputId": "5cde34b6-9a55-418f-848f-f52f2f5a2d45"
      },
      "outputs": [
        {
          "output_type": "stream",
          "name": "stdout",
          "text": [
            "input if it's BARRIER or CAR, write specific these wordBARRIER\n",
            "input if it's BARRIER or CAR, write specific these wordCAR\n",
            "input if it's BARRIER or CAR, write specific these wordBARRIER\n",
            "Choose First door: if you choose write 1 otherwise 01\n",
            "Choose Second door: if you choose write 1 otherwise 00\n",
            "Choose Third door: if you choose write 1 otherwise 00\n",
            "Open First door: if you choose write 1 otherwise 00\n",
            "Open Second door: if you choose write 1 otherwise 00\n",
            "Open Third door: if you choose write 1 otherwise 01\n",
            "Do you want to change your choose?\n",
            "YES or NOYES\n",
            "Great choose.You won a car\n",
            "CAR\n"
          ]
        }
      ],
      "source": [
        "\"\"\"\n",
        "Please write 1 if you want agree to the option, otherwise type write 0\n",
        "If you have typed 1 to one door please write 0 for other door options whether it's choosing or opening\n",
        "\"\"\"\n",
        "\n",
        "a=input(\"input if it's BARRIER or CAR, write specific these word\")\n",
        "b=input(\"input if it's BARRIER or CAR, write specific these word\")\n",
        "c=input(\"input if it's BARRIER or CAR, write specific these word\")\n",
        "ac=int(input(\"Choose First door: if you choose write 1 otherwise 0\"))\n",
        "bc=int(input(\"Choose Second door: if you choose write 1 otherwise 0\"))\n",
        "cc=int(input(\"Choose Third door: if you choose write 1 otherwise 0\"))\n",
        "ao=int(input(\"Open First door: if you choose write 1 otherwise 0\"))\n",
        "bo=int(input(\"Open Second door: if you choose write 1 otherwise 0\"))\n",
        "co=int(input(\"Open Third door: if you choose write 1 otherwise 0\"))\n",
        "\n",
        "if a==\"BARRIER\" and b==\"CAR\" and c==\"BARRIER\":#Manager\n",
        "    if ac==1 and co==1:#Competitor\n",
        "      co=\"BARRIER\"\n",
        "      print(\"Do you want to change your choose?\")\n",
        "      r=input(\"YES or NO\")\n",
        "      if r==\"YES\":\n",
        "        print(\"Great choose.You won a car\")\n",
        "        bo=1\n",
        "        print(b)\n",
        "      else:\n",
        "        print(\"You lost.\")\n",
        "        a0=1\n",
        "        print(a)\n",
        "    elif ac==1 and bo==1:\n",
        "        print(\"You won.Kind manager helped you\")\n",
        "\n",
        "if a==\"CAR\" and b==\"BARRIER\" and c==\"BARRIER\":\n",
        "    if bc==1 and co==1:\n",
        "      co=\"BARRIER\"\n",
        "      print(\"Do you want to change your choose?\")\n",
        "      r=input(\"YES or NO\")\n",
        "      if r==\"YES\":\n",
        "        print(\"Great choose.You won a car\")\n",
        "        ao=1\n",
        "        print(a)\n",
        "      else:\n",
        "        print(\"You lost.\")\n",
        "        b0=1\n",
        "        print(b)\n",
        "    elif bc==1 and ao==1:\n",
        "      print(\"You won.Kind manager helped you\")\n",
        "if a==\"BARRIER\" and b==\"BARRIER\" and c==\"CAR\":\n",
        "    if cc==1 and ao==1:\n",
        "      ao=\"BARRIER\"\n",
        "      print(\"Do you want to change your choose?\")\n",
        "      r=input(\"YES or NO\")\n",
        "      if r==\"YES\":\n",
        "        print(\" You lost\")\n",
        "        bo=1\n",
        "        print(b)\n",
        "      else:\n",
        "        print(\"Great choose.You won a car\")\n",
        "        a0=1\n",
        "        print(a)\n",
        "    elif cc==1 and bo==1:\n",
        "      print(\"You won.Kind manager helped you\")\n"
      ]
    },
    {
      "cell_type": "code",
      "source": [],
      "metadata": {
        "id": "XXEn33foA87L"
      },
      "execution_count": null,
      "outputs": []
    }
  ]
}